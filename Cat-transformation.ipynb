{
 "cells": [
  {
   "cell_type": "code",
   "execution_count": null,
   "id": "fb898b5a",
   "metadata": {},
   "outputs": [],
   "source": [
    "from ipywidgets import widgets\n",
    "import cv2\n",
    "import matplotlib.pyplot as plt\n",
    "import io\n",
    "import PIL.Image"
   ]
  },
  {
   "cell_type": "code",
   "execution_count": null,
   "id": "66f6b004",
   "metadata": {},
   "outputs": [],
   "source": [
    "file = \"cat-2.jpeg\""
   ]
  },
  {
   "cell_type": "code",
   "execution_count": null,
   "id": "d2b52566",
   "metadata": {},
   "outputs": [],
   "source": [
    "content = cv2.imread(file)"
   ]
  },
  {
   "cell_type": "code",
   "execution_count": null,
   "id": "ffee48d2",
   "metadata": {},
   "outputs": [],
   "source": [
    "def numpy_to_binary_pil(arr):\n",
    "    fh = io.BytesIO()\n",
    "    img = PIL.Image.fromarray(arr)\n",
    "    img.save(fh,\"jpeg\")\n",
    "    fh.seek(0,0)\n",
    "    return fh.read()"
   ]
  },
  {
   "cell_type": "code",
   "execution_count": null,
   "id": "f2c957ff",
   "metadata": {},
   "outputs": [],
   "source": [
    "def numpy_to_binary(arr):\n",
    "    is_success, buffer = cv2.imencode(\".jpg\", arr)\n",
    "    io_buf = io.BytesIO(buffer)\n",
    "    return io_buf.read()"
   ]
  },
  {
   "cell_type": "code",
   "execution_count": null,
   "id": "dd8f3400",
   "metadata": {},
   "outputs": [],
   "source": [
    "image = widgets.Image(value=numpy_to_binary(content))\n",
    "display(image)"
   ]
  },
  {
   "cell_type": "code",
   "execution_count": null,
   "id": "990e37b0",
   "metadata": {},
   "outputs": [],
   "source": [
    "def handle_slider_change(change,axes):\n",
    "    global image\n",
    "    global horizontal\n",
    "    global vertical\n",
    "    #print(change)\n",
    "    image.close()\n",
    "    new_array = content.copy()\n",
    "    # new_array[change.new[0]:change.new[1]] = [255,0,0]\n",
    "    if axes == \"horizontal\":\n",
    "        horizontal = change.new\n",
    "    else:\n",
    "        vertical = change.new\n",
    "    cv2.rectangle(new_array, horizontal, vertical, color=(255,0,0),thickness=3 )\n",
    "    image = widgets.Image(value=numpy_to_binary(new_array))\n",
    "    display(image)\n",
    "#     with open(change.new,'rb') as fh:\n",
    "#         image = widgets.Image(value=fh.read())\n",
    "#         display(image)\n",
    "\n",
    "horizontal = (0,0)\n",
    "vertical = (0,0)\n",
    "slider = {}\n",
    "slider[\"horizontal\"] = widgets.IntRangeSlider(value=[0,content.shape[0]],min=0,max=content.shape[0])\n",
    "slider[\"vertical\"] = widgets.IntRangeSlider(value=[0,content.shape[1]],min=0,max=content.shape[1])\n",
    "\n",
    "slider[\"horizontal\"].observe(lambda change:handle_slider_change(change,'horizontal'),names='value')\n",
    "slider[\"vertical\"].observe(lambda change:handle_slider_change(change,'vertical'),names='value')\n",
    "display(slider[\"horizontal\"],slider[\"vertical\"],image)"
   ]
  }
 ],
 "metadata": {
  "kernelspec": {
   "display_name": "Python 3 (ipykernel)",
   "language": "python",
   "name": "python3"
  },
  "language_info": {
   "codemirror_mode": {
    "name": "ipython",
    "version": 3
   },
   "file_extension": ".py",
   "mimetype": "text/x-python",
   "name": "python",
   "nbconvert_exporter": "python",
   "pygments_lexer": "ipython3",
   "version": "3.9.5"
  }
 },
 "nbformat": 4,
 "nbformat_minor": 5
}
